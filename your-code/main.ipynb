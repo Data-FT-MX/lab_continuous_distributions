{
 "cells": [
  {
   "cell_type": "markdown",
   "metadata": {},
   "source": [
    "# Before your start:\n",
    "\n",
    "    Read the README.md file\n",
    "    Comment as much as you can and use the resources (README.md file)\n",
    "    Happy learning!"
   ]
  },
  {
   "cell_type": "markdown",
   "metadata": {},
   "source": [
    "In this exercise, we  will generate random numbers from the continuous disributions we learned in the lesson. There are two ways to generate random numbers:\n",
    "\n",
    "1. Using the numpy library \n",
    "1. using the Scipy library \n",
    "\n",
    "Use either or both of the lbraries in this exercise."
   ]
  },
  {
   "cell_type": "markdown",
   "metadata": {},
   "source": [
    "## Uniform Distribution\n",
    "\n",
    "To generate uniform random numbers between any two given values using scipy, we can either use the following code or the code that we have\n",
    "discussed in class:"
   ]
  },
  {
   "cell_type": "code",
   "execution_count": 1,
   "metadata": {},
   "outputs": [
    {
     "name": "stdout",
     "output_type": "stream",
     "text": [
      "[2.35276845 2.19018733 2.17249861 2.58008448 2.81399997 2.65276766\n",
      " 2.84910998 2.40219224 2.84903178 2.11146702]\n"
     ]
    }
   ],
   "source": [
    "from scipy.stats import uniform\n",
    "x = uniform.rvs(size=10)\n",
    "a = 2\n",
    "b = 3\n",
    "randoms  = a + (b-a)*x\n",
    "print(randoms)"
   ]
  },
  {
   "cell_type": "markdown",
   "metadata": {},
   "source": [
    "**Your task:**\n",
    "\n",
    "1. Based on the code above, write a function that generates uniformly distributed random numbers. There are several requirements for your function:\n",
    "    * It should accept 3 parameters: \n",
    "        * `bottom` - the lower boundary of the generated numbers\n",
    "        * `ceiling` - the upper boundary of the generated numbers\n",
    "        * `count` - how many numbers to generate\n",
    "    * It should return an array of uniformly distributed random numbers\n",
    "\n",
    "1. Call your function with 2 sets of params below:\n",
    "    * bottom=10, ceiling=15, count=100\n",
    "    * bottom=10, ceiling=60, count=1,000\n",
    "\n",
    "1. Plot the uniform distributions generated above using histograms, where x axis is the value and y axis is the count. Let the histogram's number of bins be 10.\n",
    "\n",
    "Your output should look like below:\n",
    "\n",
    "![uniform distribution](ud.png)"
   ]
  },
  {
   "cell_type": "code",
   "execution_count": 30,
   "metadata": {},
   "outputs": [
    {
     "data": {
      "image/png": "[encoded data removed]",
      "text/plain": [
       "<Figure size 720x360 with 2 Axes>"
      ]
     },
     "metadata": {
      "needs_background": "light"
     },
     "output_type": "display_data"
    }
   ],
   "source": [
    "import matplotlib.pyplot as plt\n",
    "import seaborn as sns\n",
    "\n",
    "def uniform_distribution(a,b,size):\n",
    "    x = uniform.rvs(size=size)\n",
    "    return a + (b-a) * x\n",
    "\n",
    "fig, [ax1, ax2] = plt.subplots(1,2, figsize=(10,5), sharey=True)\n",
    "sns.histplot(uniform_distribution(10,15,100), bins=20, ax=ax1)\n",
    "sns.histplot(uniform_distribution(10,60,1000), bins=20, ax=ax2)\n",
    "plt.show()"
   ]
  },
  {
   "cell_type": "markdown",
   "metadata": {},
   "source": [
    "How are the two distributions different?"
   ]
  },
  {
   "cell_type": "code",
   "execution_count": null,
   "metadata": {},
   "outputs": [],
   "source": [
    "# your answer below\n",
    "# "
   ]
  },
  {
   "cell_type": "markdown",
   "metadata": {},
   "source": [
    "## Normal Distribution\n",
    "\n",
    "1. In the same way in the Uniform Distribution challenge, write a function that generates normally distributed random numbers.\n",
    "1. Generate 1,000 normally distributed numbers with the average of 10 and standard deviation of 1\n",
    "1. Generate 1,000 normally distributed numbers with the average of 10 and standard deviation of 50\n",
    "2. Plot the distributions of the data generated.\n",
    "\n",
    "Expected output:\n",
    "\n",
    "![normal distribution](nd.png)"
   ]
  },
  {
   "cell_type": "code",
   "execution_count": 32,
   "metadata": {},
   "outputs": [
    {
     "data": {
      "image/png": "[encoded data removed]",
      "text/plain": [
       "<Figure size 720x360 with 2 Axes>"
      ]
     },
     "metadata": {
      "needs_background": "light"
     },
     "output_type": "display_data"
    }
   ],
   "source": [
    "# your code here\n",
    "from scipy.stats import norm\n",
    "\n",
    "def normal_distribution(mu, sigma, size):\n",
    "    x = norm.rvs(size=size)\n",
    "    return mu + sigma * x\n",
    "\n",
    "\n",
    "fig, [ax1, ax2] = plt.subplots(1,2, figsize=(10,5))\n",
    "sns.histplot(normal_distribution(10,1,1000), bins=40, ax=ax1)\n",
    "sns.histplot(normal_distribution(0,50,1000), bins=40, ax=ax2)\n",
    "plt.show()"
   ]
  },
  {
   "cell_type": "markdown",
   "metadata": {},
   "source": [
    "How are the two distributions different?"
   ]
  },
  {
   "cell_type": "code",
   "execution_count": 10,
   "metadata": {},
   "outputs": [
    {
     "data": {
      "text/plain": [
       "array([ 4.04410008e-01, -4.06477664e-01, -4.91170770e-01,  1.49590430e+00,\n",
       "       -1.62493950e+00,  8.31473484e-01,  9.99112462e-01,  2.80738826e-03,\n",
       "        9.13282161e-01, -7.17763291e-01,  1.40602556e-01,  7.37172506e-01,\n",
       "        4.55829637e-02, -5.15540023e-01,  2.69786852e-01, -8.63195125e-01,\n",
       "       -5.41253757e-01, -3.83095444e-02,  6.49900491e-01, -3.02551707e-01,\n",
       "       -3.79290447e-01, -1.30241691e+00, -1.07943091e+00,  2.80743455e-02,\n",
       "        2.08407849e-01,  6.21443545e-01,  5.26781803e-01, -7.77384412e-01,\n",
       "        9.65979967e-01, -2.40144113e-01,  3.36430837e-01,  5.52114905e-01,\n",
       "       -2.57797352e-02, -1.86291034e+00,  1.62607340e-02, -8.40733665e-01,\n",
       "       -1.00305186e+00, -8.44327559e-02, -2.33658055e-01, -4.48796575e-01,\n",
       "       -1.23271051e+00, -3.88669186e-01, -5.06383911e-01,  1.51643856e+00,\n",
       "        1.52113738e-01, -6.43961436e-01, -5.52170486e-01, -2.89253582e-01,\n",
       "       -3.80772071e-01,  1.42934478e+00, -7.72260404e-01, -7.68802564e-01,\n",
       "        6.64341955e-01,  7.39315985e-01, -8.87606417e-01,  1.76345285e+00,\n",
       "        2.78089376e+00,  1.06015944e+00, -2.34833183e-01,  2.79198770e-01,\n",
       "        1.36795934e+00,  1.10827032e+00,  1.28843147e+00, -1.38191168e+00,\n",
       "        1.60537529e+00,  7.75512623e-01, -1.82638250e-03,  7.19516865e-02,\n",
       "       -2.40000336e+00,  6.10348526e-01,  2.51421877e-02, -1.23360399e+00,\n",
       "       -1.60809849e+00,  6.66240071e-01, -3.45542688e-01, -4.00516077e-01,\n",
       "       -1.86052251e+00,  7.26998781e-01, -8.87708695e-01,  4.26933021e-01,\n",
       "       -7.27925251e-01, -4.21217826e-01, -3.19869876e-01,  7.79654293e-01,\n",
       "       -1.27853259e-01,  3.79634863e+00, -2.24644667e-01,  3.41285547e-01,\n",
       "        1.18076424e+00,  2.30475105e-01, -1.26153571e+00,  1.49337638e+00,\n",
       "        7.83926404e-01, -1.01351120e+00, -2.23800816e-01, -1.73671947e+00,\n",
       "       -1.15414514e+00, -1.48555532e-01, -1.93597314e+00, -8.48180651e-02])"
      ]
     },
     "execution_count": 10,
     "metadata": {},
     "output_type": "execute_result"
    }
   ],
   "source": [
    "# your answer below\n",
    "normal_distribution(0,1,100)"
   ]
  },
  {
   "cell_type": "markdown",
   "metadata": {},
   "source": [
    "## Normal Distribution of Real Data\n",
    "\n",
    "In this challenge we are going to take a look the real data. We will use vehicles.csv file for this exercise"
   ]
  },
  {
   "cell_type": "markdown",
   "metadata": {},
   "source": [
    "First import vehicles.csv.\n",
    "Then plot the histograms for the following variables:\n",
    "\n",
    "1. Fuel Barrels/Year"
   ]
  },
  {
   "cell_type": "code",
   "execution_count": 46,
   "metadata": {},
   "outputs": [
    {
     "data": {
      "text/plain": [
       "<AxesSubplot:ylabel='Frequency'>"
      ]
     },
     "execution_count": 46,
     "metadata": {},
     "output_type": "execute_result"
    },
    {
     "data": {
      "image/png": "[encoded data removed]",
      "text/plain": [
       "<Figure size 432x288 with 1 Axes>"
      ]
     },
     "metadata": {
      "needs_background": "light"
     },
     "output_type": "display_data"
    }
   ],
   "source": [
    "# your code here\n",
    "import pandas as pd\n",
    "data = pd.read_csv('vehicles.csv')\n",
    "\n",
    "data['Fuel Barrels/Year'].plot.hist(bins=25)"
   ]
  },
  {
   "cell_type": "markdown",
   "metadata": {},
   "source": [
    "2. CO2 Emission Grams/Mile "
   ]
  },
  {
   "cell_type": "code",
   "execution_count": 43,
   "metadata": {},
   "outputs": [
    {
     "data": {
      "text/plain": [
       "<AxesSubplot:ylabel='Frequency'>"
      ]
     },
     "execution_count": 43,
     "metadata": {},
     "output_type": "execute_result"
    },
    {
     "data": {
      "image/png": "[encoded data removed]",
      "text/plain": [
       "<Figure size 432x288 with 1 Axes>"
      ]
     },
     "metadata": {
      "needs_background": "light"
     },
     "output_type": "display_data"
    }
   ],
   "source": [
    "# your code here\n",
    "data['CO2 Emission Grams/Mile'].plot.hist(bins=25)"
   ]
  },
  {
   "cell_type": "markdown",
   "metadata": {},
   "source": [
    "3. Combined MPG"
   ]
  },
  {
   "cell_type": "code",
   "execution_count": 42,
   "metadata": {},
   "outputs": [
    {
     "data": {
      "text/plain": [
       "<AxesSubplot:ylabel='Frequency'>"
      ]
     },
     "execution_count": 42,
     "metadata": {},
     "output_type": "execute_result"
    },
    {
     "data": {
      "image/png": "[encoded data removed]",
      "text/plain": [
       "<Figure size 432x288 with 1 Axes>"
      ]
     },
     "metadata": {
      "needs_background": "light"
     },
     "output_type": "display_data"
    }
   ],
   "source": [
    "# your code here\n",
    "data['Combined MPG'].plot.hist(bins=25)"
   ]
  },
  {
   "cell_type": "markdown",
   "metadata": {},
   "source": [
    "Which one(s) of the variables are nearly normally distributed? How do you know?"
   ]
  },
  {
   "cell_type": "code",
   "execution_count": null,
   "metadata": {},
   "outputs": [],
   "source": [
    "# your answer here"
   ]
  },
  {
   "cell_type": "markdown",
   "metadata": {},
   "source": [
    "## Exponential Distribution"
   ]
  },
  {
   "cell_type": "markdown",
   "metadata": {},
   "source": [
    "1. Using `numpy.random.exponential`, create a function that returns a list of numbers exponentially distributed with the mean of 10. \n",
    "\n",
    "1. Use the function to generate two number sequences with the size of 1 and 100.\n",
    "\n",
    "1. Plot the distributions as histograms with the nubmer of bins as 100.\n",
    "\n",
    "Your output should look like below:\n",
    "\n",
    "![exponential distribution](ed.png)"
   ]
  },
  {
   "cell_type": "code",
   "execution_count": 52,
   "metadata": {},
   "outputs": [
    {
     "data": {
      "image/png": "[encoded data removed]",
      "text/plain": [
       "<Figure size 720x360 with 2 Axes>"
      ]
     },
     "metadata": {
      "needs_background": "light"
     },
     "output_type": "display_data"
    }
   ],
   "source": [
    "# your code here\n",
    "from numpy.random import exponential\n",
    "\n",
    "def exponential_distribution(scale, size):\n",
    "    return scale * exponential(size=size)\n",
    "\n",
    "fig, [ax1, ax2] = plt.subplots(1,2, figsize=(10,5), sharey=True)\n",
    "sns.histplot(exponential_distribution(1, 1000), bins=100, ax=ax1)\n",
    "sns.histplot(exponential_distribution(100, 1000), bins=100, ax=ax2)\n",
    "plt.show()"
   ]
  },
  {
   "cell_type": "markdown",
   "metadata": {},
   "source": [
    "How are the two distributions different?"
   ]
  },
  {
   "cell_type": "code",
   "execution_count": 58,
   "metadata": {},
   "outputs": [
    {
     "data": {
      "text/plain": [
       "0.77717"
      ]
     },
     "execution_count": 58,
     "metadata": {},
     "output_type": "execute_result"
    }
   ],
   "source": [
    "# your answer here\n",
    "\n",
    "a = exponential_distribution(10,100000)\n",
    "a[a < 15].size / 100000"
   ]
  },
  {
   "cell_type": "markdown",
   "metadata": {},
   "source": [
    "## Exponential Distribution of Real Data\n",
    "\n",
    "Suppose that the amount of time one spends in a bank is exponentially distributed with mean as 10 minutes (i.e. λ = 1/10). What is the probability that a customer will spend less than fifteen minutes in the bank? \n",
    "\n",
    "Write a code in python to solve this problem"
   ]
  },
  {
   "cell_type": "code",
   "execution_count": 60,
   "metadata": {},
   "outputs": [
    {
     "name": "stdout",
     "output_type": "stream",
     "text": [
      "Probability of waiting less than 15min: 0.7768698398515702\n"
     ]
    }
   ],
   "source": [
    "# your answer here\n",
    "# Hint: This is same as saying P(x<15)\n",
    "from scipy.stats import expon\n",
    "\n",
    "prob = expon.cdf(15, loc=0, scale=10)\n",
    "print('Probability of waiting less than 15min:', prob)"
   ]
  },
  {
   "cell_type": "markdown",
   "metadata": {},
   "source": [
    "What is the probability that the customer will spend more than 15 minutes"
   ]
  },
  {
   "cell_type": "code",
   "execution_count": 59,
   "metadata": {},
   "outputs": [
    {
     "name": "stdout",
     "output_type": "stream",
     "text": [
      "Probability of waiting more than 15min: 0.2231301601484298\n"
     ]
    }
   ],
   "source": [
    "# your answer here\n",
    "print('Probability of waiting more than 15min:', 1 - prob)"
   ]
  },
  {
   "cell_type": "code",
   "execution_count": null,
   "metadata": {},
   "outputs": [],
   "source": []
  }
 ],
 "metadata": {
  "kernelspec": {
   "display_name": "Python 3 (ipykernel)",
   "language": "python",
   "name": "python3"
  },
  "language_info": {
   "codemirror_mode": {
    "name": "ipython",
    "version": 3
   },
   "file_extension": ".py",
   "mimetype": "text/x-python",
   "name": "python",
   "nbconvert_exporter": "python",
   "pygments_lexer": "ipython3",
   "version": "3.9.6"
  }
 },
 "nbformat": 4,
 "nbformat_minor": 2
}
